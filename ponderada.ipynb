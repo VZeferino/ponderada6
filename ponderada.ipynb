{
  "nbformat": 4,
  "nbformat_minor": 0,
  "metadata": {
    "colab": {
      "provenance": []
    },
    "kernelspec": {
      "name": "python3",
      "display_name": "Python 3"
    },
    "language_info": {
      "name": "python"
    }
  },
  "cells": [
    {
      "cell_type": "code",
      "execution_count": 16,
      "metadata": {
        "id": "CzDVdj4T6U9X"
      },
      "outputs": [],
      "source": [
        "import tensorflow as tf\n",
        "import matplotlib.pyplot as plt\n",
        "import numpy as np"
      ]
    },
    {
      "cell_type": "code",
      "source": [
        "def load_data(dataset):\n",
        "    (x_train, y_train), (x_test, y_test) = dataset.load_data()\n",
        "    x_train = tf.keras.utils.normalize(x_train, axis=1)\n",
        "    x_test = tf.keras.utils.normalize(x_test, axis=1)\n",
        "    return (x_train, y_train), (x_test, y_test)"
      ],
      "metadata": {
        "id": "9xD9BBlE6oMI"
      },
      "execution_count": 17,
      "outputs": []
    },
    {
      "cell_type": "code",
      "source": [
        "def create_model(x_train, y_train, x_test, y_test, model_path):\n",
        "    model = tf.keras.models.Sequential()\n",
        "    model.add(tf.keras.layers.Flatten())\n",
        "    model.add(tf.keras.layers.Dense(128, activation=tf.nn.relu))\n",
        "    model.add(tf.keras.layers.Dense(128, activation=tf.nn.relu))\n",
        "    model.add(tf.keras.layers.Dense(10, activation=tf.nn.softmax))\n",
        "    model.compile(\n",
        "        optimizer='adam',\n",
        "        loss='sparse_categorical_crossentropy',\n",
        "        metrics=['accuracy']\n",
        "    )\n",
        "\n",
        "    model.fit(x_train, y_train, epochs=3)\n",
        "\n",
        "    value_loss, value_accuracy = model.evaluate(x_test, y_test)\n",
        "    print(f\"Model Losses: {value_loss}\")\n",
        "    print(f\"Model Accuracy: {value_accuracy}\")\n",
        "\n",
        "    model.save(model_path)"
      ],
      "metadata": {
        "id": "AU4f5IPa6tJ7"
      },
      "execution_count": 18,
      "outputs": []
    },
    {
      "cell_type": "code",
      "source": [
        "def load_model_and_predict_number_nine(model_path, x_test, y_test):\n",
        "    model = tf.keras.models.load_model(model_path)\n",
        "\n",
        "    # Encontrar um índice de uma imagem do número 9 no dataset de teste\n",
        "    number_nine_index = np.where(y_test == 9)[0][0]\n",
        "    number_nine_image = x_test[number_nine_index]\n",
        "\n",
        "    # Fazer a predição\n",
        "    prediction = model.predict([number_nine_image.reshape(1, 28, 28)])\n",
        "    predicted_label = np.argmax(prediction[0])\n",
        "\n",
        "    # Mostrar a imagem e a predição\n",
        "    plt.imshow(number_nine_image, cmap=plt.cm.binary)\n",
        "    plt.title(f'Predicted Label: {predicted_label}')\n",
        "    plt.show()"
      ],
      "metadata": {
        "id": "63yDYKKN6yvi"
      },
      "execution_count": 19,
      "outputs": []
    },
    {
      "cell_type": "code",
      "source": [
        "def main():\n",
        "    mnist = tf.keras.datasets.mnist\n",
        "    (x_train, y_train), (x_test, y_test) = load_data(mnist)\n",
        "\n",
        "    model_path = 'modelo.model.h5'\n",
        "\n",
        "    create_model(x_train, y_train, x_test, y_test, model_path)\n",
        "\n",
        "    load_model_and_predict_number_nine(model_path, x_test, y_test)"
      ],
      "metadata": {
        "id": "EerfKaBl6-ee"
      },
      "execution_count": 20,
      "outputs": []
    },
    {
      "cell_type": "code",
      "source": [
        "main()"
      ],
      "metadata": {
        "colab": {
          "base_uri": "https://localhost:8080/",
          "height": 663
        },
        "id": "bgWEDmtK6_pT",
        "outputId": "1e314c8e-3ecd-4fd2-f33c-dca5bcee72f1"
      },
      "execution_count": 22,
      "outputs": [
        {
          "output_type": "stream",
          "name": "stdout",
          "text": [
            "Epoch 1/3\n",
            "1875/1875 [==============================] - 13s 7ms/step - loss: 0.2593 - accuracy: 0.9244\n",
            "Epoch 2/3\n",
            "1875/1875 [==============================] - 19s 10ms/step - loss: 0.1079 - accuracy: 0.9664\n",
            "Epoch 3/3\n",
            "1875/1875 [==============================] - 14s 7ms/step - loss: 0.0721 - accuracy: 0.9779\n",
            "313/313 [==============================] - 1s 2ms/step - loss: 0.0909 - accuracy: 0.9733\n",
            "Model Losses: 0.09088362753391266\n",
            "Model Accuracy: 0.9732999801635742\n"
          ]
        },
        {
          "output_type": "stream",
          "name": "stderr",
          "text": [
            "WARNING:tensorflow:5 out of the last 317 calls to <function Model.make_predict_function.<locals>.predict_function at 0x7ea5abff69e0> triggered tf.function retracing. Tracing is expensive and the excessive number of tracings could be due to (1) creating @tf.function repeatedly in a loop, (2) passing tensors with different shapes, (3) passing Python objects instead of tensors. For (1), please define your @tf.function outside of the loop. For (2), @tf.function has reduce_retracing=True option that can avoid unnecessary retracing. For (3), please refer to https://www.tensorflow.org/guide/function#controlling_retracing and https://www.tensorflow.org/api_docs/python/tf/function for  more details.\n"
          ]
        },
        {
          "output_type": "stream",
          "name": "stdout",
          "text": [
            "1/1 [==============================] - 0s 61ms/step\n"
          ]
        },
        {
          "output_type": "display_data",
          "data": {
            "text/plain": [
              "<Figure size 640x480 with 1 Axes>"
            ],
            "image/png": "[encoded data removed]"
          },
          "metadata": {}
        }
      ]
    }
  ]
}